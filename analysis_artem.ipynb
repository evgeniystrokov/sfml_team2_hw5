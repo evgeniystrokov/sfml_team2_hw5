{
 "cells": [
  {
   "cell_type": "markdown",
   "metadata": {},
   "source": [
    "Мы владельцы специфического Job-сайта и нам дали большой датасет вакансий. Одни вакансии нам интересны по своей тематике, другие не интересны (target 1 и 0 соответственно). Часть вакансий была размечена людскими ресурсами.\n",
    "Ваша задача обучить классификатор, который на основе размеченной выборки умеет определять интересные вакансии для нашего сайта.\n",
    "> -  Метрика качества ROC_AUC.\n",
    "> -  ИСПОЛЬЗОВАТЬ ВНЕШНИЕ ДАННЫЕ С JOB-сайтов = ЗАПРЕЩЕНО\n",
    "> -  ИСПОЛЬЗОВАТЬ другие ВНЕШНИЕ ДАННЫЕ = только с разрешения организатора (смотри Discussion)\n",
    "> -  Результат засчитывается только при наличие кода, который этот результат повторяет\n",
    "\n",
    "## Описание данных\n",
    "-  train.csv - данные для обучения\n",
    "-  test.csv - данные для подготовки самбита и проверки\n",
    "-  sampleSubmission.csv - пример корректного но бесполезного сабмита\n",
    "-  other.csv - необязательные данные для доп.статистик и прочих извращений (например обучение word2vec-а)\n",
    "\n",
    "## Описание полей\n",
    "-  id - внутренний идетификатор\n",
    "-  name - название вакансии\n",
    "-  description - текст вакансии\n",
    "-  target - класс заинтересованности"
   ]
  },
  {
   "cell_type": "code",
   "execution_count": 1,
   "metadata": {},
   "outputs": [],
   "source": [
    "import pandas as pd\n",
    "from bs4 import BeautifulSoup\n",
    "from tqdm import tqdm_notebook"
   ]
  },
  {
   "cell_type": "code",
   "execution_count": 2,
   "metadata": {},
   "outputs": [],
   "source": [
    "df = pd.read_csv('train.csv', engine='python', sep = '\\t', encoding = 'UTF-8')"
   ]
  },
  {
   "cell_type": "code",
   "execution_count": 3,
   "metadata": {},
   "outputs": [
    {
     "data": {
      "text/html": [
       "<div>\n",
       "<style scoped>\n",
       "    .dataframe tbody tr th:only-of-type {\n",
       "        vertical-align: middle;\n",
       "    }\n",
       "\n",
       "    .dataframe tbody tr th {\n",
       "        vertical-align: top;\n",
       "    }\n",
       "\n",
       "    .dataframe thead th {\n",
       "        text-align: right;\n",
       "    }\n",
       "</style>\n",
       "<table border=\"1\" class=\"dataframe\">\n",
       "  <thead>\n",
       "    <tr style=\"text-align: right;\">\n",
       "      <th></th>\n",
       "      <th>id</th>\n",
       "      <th>name</th>\n",
       "      <th>description</th>\n",
       "      <th>target</th>\n",
       "    </tr>\n",
       "  </thead>\n",
       "  <tbody>\n",
       "    <tr>\n",
       "      <th>0</th>\n",
       "      <td>0</td>\n",
       "      <td>Заведующий отделом/секцией в магазин YORK (Уру...</td>\n",
       "      <td>&lt;p&gt;&lt;strong&gt;В НОВЫЙ МАГАЗИН YORK (хозтовары) пр...</td>\n",
       "      <td>1</td>\n",
       "    </tr>\n",
       "    <tr>\n",
       "      <th>1</th>\n",
       "      <td>1</td>\n",
       "      <td>Наладчик станков и манипуляторов с ПУ</td>\n",
       "      <td>Обязанности:работа на токарных станках с ЧПУ T...</td>\n",
       "      <td>0</td>\n",
       "    </tr>\n",
       "    <tr>\n",
       "      <th>2</th>\n",
       "      <td>2</td>\n",
       "      <td>Разработчик С++ (Криптограф)</td>\n",
       "      <td>&lt;strong&gt;Требования:&lt;/strong&gt; &lt;ul&gt; &lt;li&gt;Опыт про...</td>\n",
       "      <td>0</td>\n",
       "    </tr>\n",
       "  </tbody>\n",
       "</table>\n",
       "</div>"
      ],
      "text/plain": [
       "   id                                               name  \\\n",
       "0   0  Заведующий отделом/секцией в магазин YORK (Уру...   \n",
       "1   1              Наладчик станков и манипуляторов с ПУ   \n",
       "2   2                       Разработчик С++ (Криптограф)   \n",
       "\n",
       "                                         description  target  \n",
       "0  <p><strong>В НОВЫЙ МАГАЗИН YORK (хозтовары) пр...       1  \n",
       "1  Обязанности:работа на токарных станках с ЧПУ T...       0  \n",
       "2  <strong>Требования:</strong> <ul> <li>Опыт про...       0  "
      ]
     },
     "execution_count": 3,
     "metadata": {},
     "output_type": "execute_result"
    }
   ],
   "source": [
    "df.head(3)"
   ]
  },
  {
   "cell_type": "code",
   "execution_count": 27,
   "metadata": {},
   "outputs": [],
   "source": [
    "def Preprocessing (df):\n",
    "    temp = df.copy()\n",
    "    temp.description = temp.description.map(lambda x: BeautifulSoup(x, 'lxml').get_text().replace(u'\\u200b', u''))\n",
    "    return temp\n",
    "\n",
    "def clean_df( df, algorithm = Preprocessing):\n",
    "    return algorithm(df.copy())"
   ]
  },
  {
   "cell_type": "code",
   "execution_count": 28,
   "metadata": {},
   "outputs": [],
   "source": [
    "df_preprocessed = clean_df(df)"
   ]
  },
  {
   "cell_type": "code",
   "execution_count": 26,
   "metadata": {},
   "outputs": [],
   "source": [
    "import re\n",
    "import nltk"
   ]
  },
  {
   "cell_type": "code",
   "execution_count": 31,
   "metadata": {},
   "outputs": [],
   "source": [
    "from nltk.stem import snowball\n",
    "corpus = []\n",
    "for i in range(0, 200000):\n",
    "    review = df_preprocessed['description'][i]\n",
    "    review = review.lower()\n",
    "    review = review.split()\n",
    "    ps = snowball.RussianStemmer()\n",
    "    review = [ps.stem(word) for word in review]\n",
    "    review = ' '.join(review)\n",
    "    corpus.append(review)"
   ]
  },
  {
   "cell_type": "code",
   "execution_count": 37,
   "metadata": {},
   "outputs": [],
   "source": [
    "# Creating the Bag of Words model\n",
    "from sklearn.feature_extraction.text import CountVectorizer\n",
    "cv = CountVectorizer(max_features = 500)"
   ]
  },
  {
   "cell_type": "code",
   "execution_count": 38,
   "metadata": {
    "scrolled": true
   },
   "outputs": [],
   "source": [
    "X = cv.fit_transform(corpus).toarray()\n",
    "y = df_preprocessed['target'].values"
   ]
  },
  {
   "cell_type": "code",
   "execution_count": 39,
   "metadata": {},
   "outputs": [
    {
     "name": "stderr",
     "output_type": "stream",
     "text": [
      "D:\\ProgramData\\Anaconda3\\lib\\site-packages\\sklearn\\cross_validation.py:41: DeprecationWarning: This module was deprecated in version 0.18 in favor of the model_selection module into which all the refactored classes and functions are moved. Also note that the interface of the new CV iterators are different from that of this module. This module will be removed in 0.20.\n",
      "  \"This module will be removed in 0.20.\", DeprecationWarning)\n"
     ]
    }
   ],
   "source": [
    "# Splitting the dataset into the Training set and Test set\n",
    "from sklearn.cross_validation import train_test_split\n",
    "X_train, X_test, y_train, y_test = train_test_split(X, y, test_size = 0.20, random_state = 0)"
   ]
  },
  {
   "cell_type": "code",
   "execution_count": 55,
   "metadata": {},
   "outputs": [
    {
     "data": {
      "text/plain": [
       "RandomForestClassifier(bootstrap=True, class_weight=None, criterion='entropy',\n",
       "            max_depth=None, max_features='auto', max_leaf_nodes=None,\n",
       "            min_impurity_decrease=0.0, min_impurity_split=None,\n",
       "            min_samples_leaf=1, min_samples_split=2,\n",
       "            min_weight_fraction_leaf=0.0, n_estimators=100, n_jobs=1,\n",
       "            oob_score=False, random_state=0, verbose=0, warm_start=False)"
      ]
     },
     "execution_count": 55,
     "metadata": {},
     "output_type": "execute_result"
    }
   ],
   "source": [
    "# Fitting Naive Bayes to the Training set\n",
    "from sklearn.ensemble import RandomForestClassifier\n",
    "classifier = RandomForestClassifier(n_estimators = 100, criterion = 'entropy', random_state = 0)\n",
    "classifier.fit(X_train, y_train)"
   ]
  },
  {
   "cell_type": "code",
   "execution_count": 41,
   "metadata": {},
   "outputs": [],
   "source": [
    "# Predicting the Test set results\n",
    "y_pred = classifier.predict(X_test)"
   ]
  },
  {
   "cell_type": "code",
   "execution_count": 42,
   "metadata": {},
   "outputs": [],
   "source": [
    "# Making the Confusion Matrix\n",
    "from sklearn.metrics import confusion_matrix\n",
    "cm = confusion_matrix(y_test, y_pred)"
   ]
  },
  {
   "cell_type": "code",
   "execution_count": 43,
   "metadata": {},
   "outputs": [
    {
     "data": {
      "text/plain": [
       "array([[20210,   995],\n",
       "       [ 1023, 17772]], dtype=int64)"
      ]
     },
     "execution_count": 43,
     "metadata": {},
     "output_type": "execute_result"
    }
   ],
   "source": []
  },
  {
   "cell_type": "code",
   "execution_count": 44,
   "metadata": {},
   "outputs": [],
   "source": [
    "df2 = pd.read_csv('test.csv', engine='python', sep = '\\t', encoding = 'UTF-8')"
   ]
  },
  {
   "cell_type": "code",
   "execution_count": 45,
   "metadata": {},
   "outputs": [],
   "source": [
    "df2_preprocessed = clean_df(df2)"
   ]
  },
  {
   "cell_type": "code",
   "execution_count": 47,
   "metadata": {},
   "outputs": [
    {
     "data": {
      "text/plain": [
       "170179"
      ]
     },
     "execution_count": 47,
     "metadata": {},
     "output_type": "execute_result"
    }
   ],
   "source": [
    "len(df2_preprocessed)"
   ]
  },
  {
   "cell_type": "code",
   "execution_count": 48,
   "metadata": {},
   "outputs": [],
   "source": [
    "from nltk.stem import snowball\n",
    "corpus2 = []\n",
    "for i in range(0, 170179):\n",
    "    review = df2_preprocessed['description'][i]\n",
    "    review = review.lower()\n",
    "    review = review.split()\n",
    "    ps = snowball.RussianStemmer()\n",
    "    review = [ps.stem(word) for word in review]\n",
    "    review = ' '.join(review)\n",
    "    corpus2.append(review)"
   ]
  },
  {
   "cell_type": "code",
   "execution_count": 49,
   "metadata": {},
   "outputs": [],
   "source": [
    "X_2 = cv.fit_transform(corpus2).toarray()"
   ]
  },
  {
   "cell_type": "code",
   "execution_count": 56,
   "metadata": {},
   "outputs": [],
   "source": [
    "y_pred = classifier.predict(X_2)"
   ]
  },
  {
   "cell_type": "code",
   "execution_count": 57,
   "metadata": {},
   "outputs": [],
   "source": [
    "final = pd.DataFrame()"
   ]
  },
  {
   "cell_type": "code",
   "execution_count": 58,
   "metadata": {},
   "outputs": [],
   "source": [
    "final['id'] = df2_preprocessed['id']"
   ]
  },
  {
   "cell_type": "code",
   "execution_count": 59,
   "metadata": {},
   "outputs": [],
   "source": [
    "final['target'] = y_pred"
   ]
  },
  {
   "cell_type": "code",
   "execution_count": 60,
   "metadata": {},
   "outputs": [],
   "source": [
    "final.to_csv('submit.csv',index=False)"
   ]
  },
  {
   "cell_type": "code",
   "execution_count": null,
   "metadata": {},
   "outputs": [],
   "source": []
  },
  {
   "cell_type": "code",
   "execution_count": null,
   "metadata": {},
   "outputs": [],
   "source": []
  },
  {
   "cell_type": "code",
   "execution_count": 67,
   "metadata": {},
   "outputs": [],
   "source": [
    "from joblib import Parallel, delayed\n",
    "import multiprocessing"
   ]
  },
  {
   "cell_type": "code",
   "execution_count": 108,
   "metadata": {},
   "outputs": [
    {
     "name": "stdout",
     "output_type": "stream",
     "text": [
      "[Parallel(n_jobs=4)]: Using backend LokyBackend with 4 concurrent workers.\n",
      "[Parallel(n_jobs=4)]: Done   1 tasks      | elapsed:    2.0s\n",
      "[Parallel(n_jobs=4)]: Done   2 tasks      | elapsed:    2.1s\n",
      "[Parallel(n_jobs=4)]: Done   3 tasks      | elapsed:    2.1s\n",
      "[Parallel(n_jobs=4)]: Done   4 tasks      | elapsed:    2.1s\n",
      "[Parallel(n_jobs=4)]: Done   5 tasks      | elapsed:    4.7s\n",
      "[Parallel(n_jobs=4)]: Done   6 tasks      | elapsed:    4.7s\n",
      "[Parallel(n_jobs=4)]: Done   7 tasks      | elapsed:    4.9s\n",
      "[Parallel(n_jobs=4)]: Done   8 tasks      | elapsed:    4.9s\n",
      "[Parallel(n_jobs=4)]: Done   9 tasks      | elapsed:    7.2s\n",
      "[Parallel(n_jobs=4)]: Done  10 tasks      | elapsed:    7.2s\n",
      "[Parallel(n_jobs=4)]: Done  11 tasks      | elapsed:    7.3s\n",
      "[Parallel(n_jobs=4)]: Done  12 tasks      | elapsed:    7.4s\n",
      "[Parallel(n_jobs=4)]: Done  13 tasks      | elapsed:    9.4s\n",
      "[Parallel(n_jobs=4)]: Done  14 tasks      | elapsed:    9.5s\n",
      "[Parallel(n_jobs=4)]: Done  15 tasks      | elapsed:    9.5s\n",
      "[Parallel(n_jobs=4)]: Done  16 tasks      | elapsed:    9.6s\n",
      "[Parallel(n_jobs=4)]: Done  17 tasks      | elapsed:   11.5s\n",
      "[Parallel(n_jobs=4)]: Done  18 tasks      | elapsed:   11.7s\n",
      "[Parallel(n_jobs=4)]: Done  19 tasks      | elapsed:   11.7s\n",
      "[Parallel(n_jobs=4)]: Done  20 tasks      | elapsed:   11.8s\n",
      "[Parallel(n_jobs=4)]: Done  21 tasks      | elapsed:   13.9s\n",
      "[Parallel(n_jobs=4)]: Done  22 tasks      | elapsed:   14.0s\n",
      "[Parallel(n_jobs=4)]: Done  23 tasks      | elapsed:   14.0s\n",
      "[Parallel(n_jobs=4)]: Done  24 tasks      | elapsed:   14.2s\n",
      "[Parallel(n_jobs=4)]: Done  25 tasks      | elapsed:   16.3s\n",
      "[Parallel(n_jobs=4)]: Done  26 tasks      | elapsed:   16.4s\n",
      "[Parallel(n_jobs=4)]: Done  27 tasks      | elapsed:   16.5s\n",
      "[Parallel(n_jobs=4)]: Done  28 tasks      | elapsed:   16.6s\n",
      "[Parallel(n_jobs=4)]: Done  29 tasks      | elapsed:   18.9s\n",
      "[Parallel(n_jobs=4)]: Done  30 tasks      | elapsed:   19.1s\n",
      "[Parallel(n_jobs=4)]: Done  31 tasks      | elapsed:   19.3s\n",
      "[Parallel(n_jobs=4)]: Done  32 tasks      | elapsed:   19.3s\n",
      "[Parallel(n_jobs=4)]: Done  33 tasks      | elapsed:   21.8s\n",
      "[Parallel(n_jobs=4)]: Done  34 tasks      | elapsed:   22.1s\n",
      "[Parallel(n_jobs=4)]: Done  35 tasks      | elapsed:   22.2s\n",
      "[Parallel(n_jobs=4)]: Done  36 tasks      | elapsed:   22.4s\n",
      "[Parallel(n_jobs=4)]: Done  37 tasks      | elapsed:   24.3s\n",
      "[Parallel(n_jobs=4)]: Done  38 tasks      | elapsed:   24.7s\n",
      "[Parallel(n_jobs=4)]: Done  39 tasks      | elapsed:   24.7s\n",
      "[Parallel(n_jobs=4)]: Done  40 tasks      | elapsed:   24.9s\n",
      "[Parallel(n_jobs=4)]: Done  41 tasks      | elapsed:   26.8s\n",
      "[Parallel(n_jobs=4)]: Done  42 tasks      | elapsed:   27.2s\n",
      "[Parallel(n_jobs=4)]: Done  43 tasks      | elapsed:   27.2s\n",
      "[Parallel(n_jobs=4)]: Done  44 tasks      | elapsed:   27.4s\n",
      "[Parallel(n_jobs=4)]: Done  45 tasks      | elapsed:   29.2s\n",
      "[Parallel(n_jobs=4)]: Done  46 tasks      | elapsed:   29.6s\n",
      "[Parallel(n_jobs=4)]: Done  47 tasks      | elapsed:   29.7s\n",
      "[Parallel(n_jobs=4)]: Done  48 tasks      | elapsed:   30.0s\n",
      "[Parallel(n_jobs=4)]: Done  49 tasks      | elapsed:   31.6s\n",
      "[Parallel(n_jobs=4)]: Done  50 tasks      | elapsed:   32.0s\n",
      "[Parallel(n_jobs=4)]: Done  51 tasks      | elapsed:   32.2s\n",
      "[Parallel(n_jobs=4)]: Done  52 tasks      | elapsed:   32.3s\n",
      "[Parallel(n_jobs=4)]: Done  53 tasks      | elapsed:   33.8s\n",
      "[Parallel(n_jobs=4)]: Done  54 tasks      | elapsed:   34.3s\n",
      "[Parallel(n_jobs=4)]: Done  55 tasks      | elapsed:   34.4s\n",
      "[Parallel(n_jobs=4)]: Done  56 tasks      | elapsed:   34.5s\n",
      "[Parallel(n_jobs=4)]: Done  57 tasks      | elapsed:   36.4s\n",
      "[Parallel(n_jobs=4)]: Done  58 tasks      | elapsed:   37.0s\n",
      "[Parallel(n_jobs=4)]: Done  59 tasks      | elapsed:   37.2s\n",
      "[Parallel(n_jobs=4)]: Done  60 tasks      | elapsed:   37.2s\n",
      "[Parallel(n_jobs=4)]: Done  61 tasks      | elapsed:   39.1s\n",
      "[Parallel(n_jobs=4)]: Done  62 tasks      | elapsed:   39.5s\n",
      "[Parallel(n_jobs=4)]: Done  63 tasks      | elapsed:   39.6s\n",
      "[Parallel(n_jobs=4)]: Done  64 tasks      | elapsed:   39.6s\n",
      "[Parallel(n_jobs=4)]: Done  65 tasks      | elapsed:   41.4s\n",
      "[Parallel(n_jobs=4)]: Done  66 tasks      | elapsed:   41.9s\n",
      "[Parallel(n_jobs=4)]: Done  67 tasks      | elapsed:   42.0s\n",
      "[Parallel(n_jobs=4)]: Done  68 tasks      | elapsed:   42.1s\n",
      "[Parallel(n_jobs=4)]: Done  69 tasks      | elapsed:   43.8s\n",
      "[Parallel(n_jobs=4)]: Done  70 tasks      | elapsed:   44.4s\n",
      "[Parallel(n_jobs=4)]: Done  71 tasks      | elapsed:   44.5s\n",
      "[Parallel(n_jobs=4)]: Done  72 tasks      | elapsed:   44.5s\n",
      "[Parallel(n_jobs=4)]: Done  73 tasks      | elapsed:   46.3s\n",
      "[Parallel(n_jobs=4)]: Done  74 tasks      | elapsed:   46.8s\n",
      "[Parallel(n_jobs=4)]: Done  75 tasks      | elapsed:   46.9s\n",
      "[Parallel(n_jobs=4)]: Done  76 tasks      | elapsed:   46.9s\n",
      "[Parallel(n_jobs=4)]: Done  77 tasks      | elapsed:   48.8s\n",
      "[Parallel(n_jobs=4)]: Done  78 tasks      | elapsed:   49.3s\n",
      "[Parallel(n_jobs=4)]: Done  79 tasks      | elapsed:   49.3s\n",
      "[Parallel(n_jobs=4)]: Done  80 tasks      | elapsed:   49.4s\n",
      "[Parallel(n_jobs=4)]: Done  81 tasks      | elapsed:   51.3s\n",
      "[Parallel(n_jobs=4)]: Done  82 tasks      | elapsed:   52.0s\n",
      "[Parallel(n_jobs=4)]: Done  83 tasks      | elapsed:   52.0s\n",
      "[Parallel(n_jobs=4)]: Done  84 tasks      | elapsed:   52.1s\n",
      "[Parallel(n_jobs=4)]: Done  85 tasks      | elapsed:   54.2s\n",
      "[Parallel(n_jobs=4)]: Done  86 tasks      | elapsed:   54.8s\n",
      "[Parallel(n_jobs=4)]: Done  87 tasks      | elapsed:   54.9s\n",
      "[Parallel(n_jobs=4)]: Done  88 tasks      | elapsed:   55.0s\n",
      "[Parallel(n_jobs=4)]: Done  89 tasks      | elapsed:   56.8s\n",
      "[Parallel(n_jobs=4)]: Done  90 tasks      | elapsed:   57.2s\n",
      "[Parallel(n_jobs=4)]: Done  91 tasks      | elapsed:   57.2s\n",
      "[Parallel(n_jobs=4)]: Done  92 tasks      | elapsed:   57.5s\n",
      "[Parallel(n_jobs=4)]: Done  93 tasks      | elapsed:   59.2s\n",
      "[Parallel(n_jobs=4)]: Done  94 tasks      | elapsed:   59.5s\n",
      "[Parallel(n_jobs=4)]: Done  95 tasks      | elapsed:   59.7s\n",
      "[Parallel(n_jobs=4)]: Done  96 tasks      | elapsed:   59.9s\n",
      "[Parallel(n_jobs=4)]: Done  97 tasks      | elapsed:  1.0min\n",
      "[Parallel(n_jobs=4)]: Done  98 tasks      | elapsed:  1.0min\n",
      "[Parallel(n_jobs=4)]: Done  99 tasks      | elapsed:  1.0min\n",
      "[Parallel(n_jobs=4)]: Done 100 tasks      | elapsed:  1.0min\n",
      "[Parallel(n_jobs=4)]: Done 101 tasks      | elapsed:  1.1min\n",
      "[Parallel(n_jobs=4)]: Done 102 tasks      | elapsed:  1.1min\n",
      "[Parallel(n_jobs=4)]: Done 103 tasks      | elapsed:  1.1min\n",
      "[Parallel(n_jobs=4)]: Done 104 tasks      | elapsed:  1.1min\n",
      "[Parallel(n_jobs=4)]: Done 105 tasks      | elapsed:  1.1min\n",
      "[Parallel(n_jobs=4)]: Done 106 tasks      | elapsed:  1.1min\n",
      "[Parallel(n_jobs=4)]: Done 107 tasks      | elapsed:  1.1min\n",
      "[Parallel(n_jobs=4)]: Done 108 tasks      | elapsed:  1.1min\n",
      "[Parallel(n_jobs=4)]: Done 109 tasks      | elapsed:  1.2min\n",
      "[Parallel(n_jobs=4)]: Done 110 tasks      | elapsed:  1.2min\n",
      "[Parallel(n_jobs=4)]: Done 111 tasks      | elapsed:  1.2min\n",
      "[Parallel(n_jobs=4)]: Done 112 tasks      | elapsed:  1.2min\n",
      "[Parallel(n_jobs=4)]: Done 113 tasks      | elapsed:  1.2min\n",
      "[Parallel(n_jobs=4)]: Done 114 tasks      | elapsed:  1.2min\n",
      "[Parallel(n_jobs=4)]: Done 115 tasks      | elapsed:  1.2min\n",
      "[Parallel(n_jobs=4)]: Done 116 tasks      | elapsed:  1.2min\n",
      "[Parallel(n_jobs=4)]: Done 117 tasks      | elapsed:  1.2min\n",
      "[Parallel(n_jobs=4)]: Done 118 tasks      | elapsed:  1.2min\n",
      "[Parallel(n_jobs=4)]: Done 119 tasks      | elapsed:  1.2min\n",
      "[Parallel(n_jobs=4)]: Done 120 tasks      | elapsed:  1.2min\n",
      "[Parallel(n_jobs=4)]: Done 121 tasks      | elapsed:  1.3min\n",
      "[Parallel(n_jobs=4)]: Done 122 tasks      | elapsed:  1.3min\n",
      "[Parallel(n_jobs=4)]: Done 123 tasks      | elapsed:  1.3min\n",
      "[Parallel(n_jobs=4)]: Done 124 tasks      | elapsed:  1.3min\n",
      "[Parallel(n_jobs=4)]: Done 125 tasks      | elapsed:  1.3min\n",
      "[Parallel(n_jobs=4)]: Done 126 tasks      | elapsed:  1.3min\n",
      "[Parallel(n_jobs=4)]: Done 127 tasks      | elapsed:  1.3min\n",
      "[Parallel(n_jobs=4)]: Done 128 tasks      | elapsed:  1.3min\n",
      "[Parallel(n_jobs=4)]: Done 129 tasks      | elapsed:  1.3min\n",
      "[Parallel(n_jobs=4)]: Done 130 tasks      | elapsed:  1.4min\n",
      "[Parallel(n_jobs=4)]: Done 131 tasks      | elapsed:  1.4min\n",
      "[Parallel(n_jobs=4)]: Done 132 tasks      | elapsed:  1.4min\n",
      "[Parallel(n_jobs=4)]: Done 133 tasks      | elapsed:  1.4min\n",
      "[Parallel(n_jobs=4)]: Done 134 tasks      | elapsed:  1.4min\n"
     ]
    },
    {
     "name": "stdout",
     "output_type": "stream",
     "text": [
      "[Parallel(n_jobs=4)]: Done 135 tasks      | elapsed:  1.4min\n",
      "[Parallel(n_jobs=4)]: Done 136 tasks      | elapsed:  1.4min\n",
      "[Parallel(n_jobs=4)]: Done 137 tasks      | elapsed:  1.4min\n",
      "[Parallel(n_jobs=4)]: Done 138 tasks      | elapsed:  1.4min\n",
      "[Parallel(n_jobs=4)]: Done 139 tasks      | elapsed:  1.4min\n",
      "[Parallel(n_jobs=4)]: Done 140 tasks      | elapsed:  1.4min\n",
      "[Parallel(n_jobs=4)]: Done 141 tasks      | elapsed:  1.5min\n",
      "[Parallel(n_jobs=4)]: Done 142 tasks      | elapsed:  1.5min\n",
      "[Parallel(n_jobs=4)]: Done 143 tasks      | elapsed:  1.5min\n",
      "[Parallel(n_jobs=4)]: Done 144 tasks      | elapsed:  1.5min\n",
      "[Parallel(n_jobs=4)]: Done 145 tasks      | elapsed:  1.5min\n",
      "[Parallel(n_jobs=4)]: Done 146 tasks      | elapsed:  1.5min\n",
      "[Parallel(n_jobs=4)]: Done 147 tasks      | elapsed:  1.5min\n",
      "[Parallel(n_jobs=4)]: Done 148 tasks      | elapsed:  1.5min\n",
      "[Parallel(n_jobs=4)]: Done 149 tasks      | elapsed:  1.5min\n",
      "[Parallel(n_jobs=4)]: Done 150 tasks      | elapsed:  1.6min\n",
      "[Parallel(n_jobs=4)]: Done 151 tasks      | elapsed:  1.6min\n",
      "[Parallel(n_jobs=4)]: Done 152 tasks      | elapsed:  1.6min\n",
      "[Parallel(n_jobs=4)]: Done 153 tasks      | elapsed:  1.6min\n",
      "[Parallel(n_jobs=4)]: Done 154 tasks      | elapsed:  1.6min\n",
      "[Parallel(n_jobs=4)]: Done 155 tasks      | elapsed:  1.6min\n",
      "[Parallel(n_jobs=4)]: Done 156 tasks      | elapsed:  1.6min\n",
      "[Parallel(n_jobs=4)]: Done 157 tasks      | elapsed:  1.6min\n",
      "[Parallel(n_jobs=4)]: Done 158 tasks      | elapsed:  1.6min\n",
      "[Parallel(n_jobs=4)]: Done 159 tasks      | elapsed:  1.6min\n",
      "[Parallel(n_jobs=4)]: Done 160 tasks      | elapsed:  1.6min\n",
      "[Parallel(n_jobs=4)]: Done 161 tasks      | elapsed:  1.7min\n",
      "[Parallel(n_jobs=4)]: Done 162 tasks      | elapsed:  1.7min\n",
      "[Parallel(n_jobs=4)]: Done 163 tasks      | elapsed:  1.7min\n",
      "[Parallel(n_jobs=4)]: Done 164 tasks      | elapsed:  1.7min\n",
      "[Parallel(n_jobs=4)]: Done 165 tasks      | elapsed:  1.7min\n",
      "[Parallel(n_jobs=4)]: Done 166 tasks      | elapsed:  1.7min\n",
      "[Parallel(n_jobs=4)]: Done 167 tasks      | elapsed:  1.7min\n",
      "[Parallel(n_jobs=4)]: Done 168 tasks      | elapsed:  1.7min\n",
      "[Parallel(n_jobs=4)]: Done 169 tasks      | elapsed:  1.8min\n",
      "[Parallel(n_jobs=4)]: Done 170 tasks      | elapsed:  1.8min\n",
      "[Parallel(n_jobs=4)]: Done 171 tasks      | elapsed:  1.8min\n",
      "[Parallel(n_jobs=4)]: Done 172 tasks      | elapsed:  1.8min\n",
      "[Parallel(n_jobs=4)]: Done 173 tasks      | elapsed:  1.8min\n",
      "[Parallel(n_jobs=4)]: Done 174 tasks      | elapsed:  1.8min\n",
      "[Parallel(n_jobs=4)]: Done 175 tasks      | elapsed:  1.8min\n",
      "[Parallel(n_jobs=4)]: Done 176 tasks      | elapsed:  1.8min\n",
      "[Parallel(n_jobs=4)]: Done 177 tasks      | elapsed:  1.8min\n",
      "[Parallel(n_jobs=4)]: Done 178 tasks      | elapsed:  1.8min\n",
      "[Parallel(n_jobs=4)]: Done 179 tasks      | elapsed:  1.8min\n",
      "[Parallel(n_jobs=4)]: Done 180 tasks      | elapsed:  1.8min\n",
      "[Parallel(n_jobs=4)]: Done 181 tasks      | elapsed:  1.9min\n",
      "[Parallel(n_jobs=4)]: Done 182 tasks      | elapsed:  1.9min\n",
      "[Parallel(n_jobs=4)]: Done 183 tasks      | elapsed:  1.9min\n",
      "[Parallel(n_jobs=4)]: Done 184 tasks      | elapsed:  1.9min\n",
      "[Parallel(n_jobs=4)]: Done 185 tasks      | elapsed:  1.9min\n",
      "[Parallel(n_jobs=4)]: Done 186 tasks      | elapsed:  1.9min\n",
      "[Parallel(n_jobs=4)]: Done 187 tasks      | elapsed:  1.9min\n",
      "[Parallel(n_jobs=4)]: Done 188 tasks      | elapsed:  1.9min\n",
      "[Parallel(n_jobs=4)]: Done 189 tasks      | elapsed:  2.0min\n",
      "[Parallel(n_jobs=4)]: Done 190 tasks      | elapsed:  2.0min\n",
      "[Parallel(n_jobs=4)]: Done 191 tasks      | elapsed:  2.0min\n",
      "[Parallel(n_jobs=4)]: Done 192 tasks      | elapsed:  2.0min\n",
      "[Parallel(n_jobs=4)]: Done 193 tasks      | elapsed:  2.0min\n",
      "[Parallel(n_jobs=4)]: Done 198 out of 200 | elapsed:  2.0min remaining:    1.1s\n",
      "[Parallel(n_jobs=4)]: Done 200 out of 200 | elapsed:  2.0min finished\n"
     ]
    }
   ],
   "source": [
    "num_cores = multiprocessing.cpu_count()\n",
    "n = 1000  #chunk row size\n",
    "list_df = [df[i:i+n] for i in range(0,df.shape[0],n)]\n",
    "texts = Parallel(n_jobs=num_cores, verbose=50)(delayed(\n",
    "    parce_text)(i)for i in list_df)\n",
    "#new_df = pd.concat(texts)"
   ]
  }
 ],
 "metadata": {
  "kernelspec": {
   "display_name": "Python 3",
   "language": "python",
   "name": "python3"
  },
  "language_info": {
   "codemirror_mode": {
    "name": "ipython",
    "version": 3
   },
   "file_extension": ".py",
   "mimetype": "text/x-python",
   "name": "python",
   "nbconvert_exporter": "python",
   "pygments_lexer": "ipython3",
   "version": "3.6.6"
  }
 },
 "nbformat": 4,
 "nbformat_minor": 2
}
